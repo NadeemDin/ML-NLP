{
 "cells": [
  {
   "cell_type": "code",
   "execution_count": 44,
   "id": "c1f6e21b",
   "metadata": {},
   "outputs": [],
   "source": [
    "import numpy as np\n",
    "import pandas as pd\n",
    "import matplotlib.pyplot as plt\n",
    "import seaborn as sns"
   ]
  },
  {
   "cell_type": "code",
   "execution_count": 10,
   "id": "6e915dde",
   "metadata": {},
   "outputs": [],
   "source": [
    "with open('DATA/One.txt') as mytext:\n",
    "    #a = mytext.readlines()\n",
    "    a = mytext.read()\n",
    "       "
   ]
  },
  {
   "cell_type": "markdown",
   "id": "c927bd9c",
   "metadata": {},
   "source": [
    "#a = mytext.readlines()\n",
    "\n",
    "a \n",
    "\n",
    "['This is a story about dogs\\n',\n",
    " 'our canine pets\\n',\n",
    " 'Dogs are furry animals\\n']"
   ]
  },
  {
   "cell_type": "code",
   "execution_count": 11,
   "id": "5cb8740c",
   "metadata": {},
   "outputs": [
    {
     "name": "stdout",
     "output_type": "stream",
     "text": [
      "This is a story about dogs\n",
      "our canine pets\n",
      "Dogs are furry animals\n",
      "\n"
     ]
    }
   ],
   "source": [
    "print(a)"
   ]
  },
  {
   "cell_type": "code",
   "execution_count": 12,
   "id": "e2572a07",
   "metadata": {},
   "outputs": [
    {
     "data": {
      "text/plain": [
       "['this',\n",
       " 'is',\n",
       " 'a',\n",
       " 'story',\n",
       " 'about',\n",
       " 'dogs',\n",
       " 'our',\n",
       " 'canine',\n",
       " 'pets',\n",
       " 'dogs',\n",
       " 'are',\n",
       " 'furry',\n",
       " 'animals']"
      ]
     },
     "execution_count": 12,
     "metadata": {},
     "output_type": "execute_result"
    }
   ],
   "source": [
    "a.lower().split() #convert to lowercase and split word for word into list "
   ]
  },
  {
   "cell_type": "code",
   "execution_count": 14,
   "id": "8f3f84aa",
   "metadata": {},
   "outputs": [],
   "source": [
    "#building out a vocabulary.\n",
    "with open('DATA/One.txt') as mytext:\n",
    "    words_one = mytext.read().lower().split()\n",
    "    unique_words_one = set(words_one)\n",
    "       "
   ]
  },
  {
   "cell_type": "code",
   "execution_count": 15,
   "id": "5b748cf8",
   "metadata": {},
   "outputs": [
    {
     "data": {
      "text/plain": [
       "{'a',\n",
       " 'about',\n",
       " 'animals',\n",
       " 'are',\n",
       " 'canine',\n",
       " 'dogs',\n",
       " 'furry',\n",
       " 'is',\n",
       " 'our',\n",
       " 'pets',\n",
       " 'story',\n",
       " 'this'}"
      ]
     },
     "execution_count": 15,
     "metadata": {},
     "output_type": "execute_result"
    }
   ],
   "source": [
    "unique_words_one"
   ]
  },
  {
   "cell_type": "code",
   "execution_count": 17,
   "id": "1bcaca6d",
   "metadata": {},
   "outputs": [],
   "source": [
    "with open('DATA/Two.txt') as mytext:\n",
    "    words_two = mytext.read().lower().split()\n",
    "    unique_words_two = set(words_two)\n",
    "       "
   ]
  },
  {
   "cell_type": "code",
   "execution_count": 18,
   "id": "3c3abed0",
   "metadata": {},
   "outputs": [],
   "source": [
    "all_unique_words = set()\n",
    "all_unique_words.update(unique_words_one)"
   ]
  },
  {
   "cell_type": "code",
   "execution_count": 19,
   "id": "3511c51d",
   "metadata": {},
   "outputs": [
    {
     "data": {
      "text/plain": [
       "{'a',\n",
       " 'about',\n",
       " 'animals',\n",
       " 'are',\n",
       " 'canine',\n",
       " 'dogs',\n",
       " 'furry',\n",
       " 'is',\n",
       " 'our',\n",
       " 'pets',\n",
       " 'story',\n",
       " 'this'}"
      ]
     },
     "execution_count": 19,
     "metadata": {},
     "output_type": "execute_result"
    }
   ],
   "source": [
    "all_unique_words"
   ]
  },
  {
   "cell_type": "code",
   "execution_count": 20,
   "id": "a2083617",
   "metadata": {},
   "outputs": [],
   "source": [
    "all_unique_words.update(unique_words_two)"
   ]
  },
  {
   "cell_type": "code",
   "execution_count": 21,
   "id": "9e251eba",
   "metadata": {},
   "outputs": [
    {
     "data": {
      "text/plain": [
       "{'a',\n",
       " 'about',\n",
       " 'animals',\n",
       " 'are',\n",
       " 'canine',\n",
       " 'catching',\n",
       " 'dogs',\n",
       " 'fun',\n",
       " 'furry',\n",
       " 'is',\n",
       " 'our',\n",
       " 'pets',\n",
       " 'popular',\n",
       " 'sport',\n",
       " 'story',\n",
       " 'surfing',\n",
       " 'this',\n",
       " 'water',\n",
       " 'waves'}"
      ]
     },
     "execution_count": 21,
     "metadata": {},
     "output_type": "execute_result"
    }
   ],
   "source": [
    "all_unique_words #contains all unique words accross documents."
   ]
  },
  {
   "cell_type": "code",
   "execution_count": 23,
   "id": "78eb11f1",
   "metadata": {},
   "outputs": [],
   "source": [
    "full_vocabulary = dict()\n",
    "i = 0 \n",
    "\n",
    "for word in all_unique_words:\n",
    "    full_vocabulary[word] = i\n",
    "    i = i+1"
   ]
  },
  {
   "cell_type": "code",
   "execution_count": 24,
   "id": "9278dfd9",
   "metadata": {},
   "outputs": [
    {
     "data": {
      "text/plain": [
       "{'pets': 0,\n",
       " 'sport': 1,\n",
       " 'about': 2,\n",
       " 'fun': 3,\n",
       " 'waves': 4,\n",
       " 'catching': 5,\n",
       " 'surfing': 6,\n",
       " 'is': 7,\n",
       " 'furry': 8,\n",
       " 'story': 9,\n",
       " 'canine': 10,\n",
       " 'dogs': 11,\n",
       " 'a': 12,\n",
       " 'water': 13,\n",
       " 'animals': 14,\n",
       " 'our': 15,\n",
       " 'popular': 16,\n",
       " 'this': 17,\n",
       " 'are': 18}"
      ]
     },
     "execution_count": 24,
     "metadata": {},
     "output_type": "execute_result"
    }
   ],
   "source": [
    "full_vocabulary"
   ]
  },
  {
   "cell_type": "code",
   "execution_count": 25,
   "id": "eb069a34",
   "metadata": {},
   "outputs": [],
   "source": [
    "one_freq = [0]*len(full_vocabulary)\n",
    "two_freq = [0]*len(full_vocabulary)\n",
    "all_words = ['']*len(full_vocabulary)"
   ]
  },
  {
   "cell_type": "code",
   "execution_count": 26,
   "id": "8ac5850d",
   "metadata": {},
   "outputs": [],
   "source": [
    "with open('DATA/One.txt') as f:\n",
    "    one_txt = f.read().lower().split()\n",
    "       "
   ]
  },
  {
   "cell_type": "code",
   "execution_count": 33,
   "id": "aa298901",
   "metadata": {},
   "outputs": [],
   "source": [
    "# loop to count frequency of words\n",
    "for word in one_txt:\n",
    "    word_index = full_vocabulary[word]\n",
    "    one_freq[word_index] += 1 "
   ]
  },
  {
   "cell_type": "code",
   "execution_count": 34,
   "id": "305f5d06",
   "metadata": {},
   "outputs": [
    {
     "data": {
      "text/plain": [
       "[1, 0, 1, 0, 0, 0, 0, 1, 1, 1, 1, 2, 1, 0, 1, 1, 0, 1, 1]"
      ]
     },
     "execution_count": 34,
     "metadata": {},
     "output_type": "execute_result"
    }
   ],
   "source": [
    "one_freq"
   ]
  },
  {
   "cell_type": "code",
   "execution_count": 35,
   "id": "8f13feeb",
   "metadata": {},
   "outputs": [],
   "source": [
    "with open('DATA/Two.txt') as f:\n",
    "    two_txt = f.read().lower().split()\n",
    " \n",
    "       "
   ]
  },
  {
   "cell_type": "code",
   "execution_count": 36,
   "id": "79906a72",
   "metadata": {},
   "outputs": [
    {
     "data": {
      "text/plain": [
       "['this',\n",
       " 'story',\n",
       " 'is',\n",
       " 'about',\n",
       " 'surfing',\n",
       " 'catching',\n",
       " 'waves',\n",
       " 'is',\n",
       " 'fun',\n",
       " 'surfing',\n",
       " 'is',\n",
       " 'a',\n",
       " 'popular',\n",
       " 'water',\n",
       " 'sport']"
      ]
     },
     "execution_count": 36,
     "metadata": {},
     "output_type": "execute_result"
    }
   ],
   "source": [
    "two_txt"
   ]
  },
  {
   "cell_type": "code",
   "execution_count": 37,
   "id": "98ce76cc",
   "metadata": {},
   "outputs": [],
   "source": [
    "# loop to count frequency of words\n",
    "for word in two_txt:\n",
    "    word_index = full_vocabulary[word]\n",
    "    two_freq[word_index] += 1 "
   ]
  },
  {
   "cell_type": "code",
   "execution_count": 38,
   "id": "b3462846",
   "metadata": {},
   "outputs": [
    {
     "data": {
      "text/plain": [
       "[0, 1, 1, 1, 1, 1, 2, 3, 0, 1, 0, 0, 1, 1, 0, 0, 1, 1, 0]"
      ]
     },
     "execution_count": 38,
     "metadata": {},
     "output_type": "execute_result"
    }
   ],
   "source": [
    "two_freq"
   ]
  },
  {
   "cell_type": "code",
   "execution_count": 39,
   "id": "952e0238",
   "metadata": {},
   "outputs": [
    {
     "data": {
      "text/plain": [
       "['', '', '', '', '', '', '', '', '', '', '', '', '', '', '', '', '', '', '']"
      ]
     },
     "execution_count": 39,
     "metadata": {},
     "output_type": "execute_result"
    }
   ],
   "source": [
    "all_words"
   ]
  },
  {
   "cell_type": "code",
   "execution_count": 41,
   "id": "f37307f2",
   "metadata": {},
   "outputs": [],
   "source": [
    "for word in full_vocabulary:\n",
    "    word_index = full_vocabulary[word]\n",
    "    all_words[word_index] = word"
   ]
  },
  {
   "cell_type": "code",
   "execution_count": 42,
   "id": "03d2d67e",
   "metadata": {},
   "outputs": [
    {
     "data": {
      "text/plain": [
       "['pets',\n",
       " 'sport',\n",
       " 'about',\n",
       " 'fun',\n",
       " 'waves',\n",
       " 'catching',\n",
       " 'surfing',\n",
       " 'is',\n",
       " 'furry',\n",
       " 'story',\n",
       " 'canine',\n",
       " 'dogs',\n",
       " 'a',\n",
       " 'water',\n",
       " 'animals',\n",
       " 'our',\n",
       " 'popular',\n",
       " 'this',\n",
       " 'are']"
      ]
     },
     "execution_count": 42,
     "metadata": {},
     "output_type": "execute_result"
    }
   ],
   "source": [
    "all_words"
   ]
  },
  {
   "cell_type": "code",
   "execution_count": 46,
   "id": "b9f1cde7",
   "metadata": {},
   "outputs": [],
   "source": [
    "bow = pd.DataFrame(data=[one_freq,two_freq],columns=all_words)"
   ]
  },
  {
   "cell_type": "code",
   "execution_count": 48,
   "id": "fef7b4c2",
   "metadata": {},
   "outputs": [
    {
     "data": {
      "text/html": [
       "<div>\n",
       "<style scoped>\n",
       "    .dataframe tbody tr th:only-of-type {\n",
       "        vertical-align: middle;\n",
       "    }\n",
       "\n",
       "    .dataframe tbody tr th {\n",
       "        vertical-align: top;\n",
       "    }\n",
       "\n",
       "    .dataframe thead th {\n",
       "        text-align: right;\n",
       "    }\n",
       "</style>\n",
       "<table border=\"1\" class=\"dataframe\">\n",
       "  <thead>\n",
       "    <tr style=\"text-align: right;\">\n",
       "      <th></th>\n",
       "      <th>pets</th>\n",
       "      <th>sport</th>\n",
       "      <th>about</th>\n",
       "      <th>fun</th>\n",
       "      <th>waves</th>\n",
       "      <th>catching</th>\n",
       "      <th>surfing</th>\n",
       "      <th>is</th>\n",
       "      <th>furry</th>\n",
       "      <th>story</th>\n",
       "      <th>canine</th>\n",
       "      <th>dogs</th>\n",
       "      <th>a</th>\n",
       "      <th>water</th>\n",
       "      <th>animals</th>\n",
       "      <th>our</th>\n",
       "      <th>popular</th>\n",
       "      <th>this</th>\n",
       "      <th>are</th>\n",
       "    </tr>\n",
       "  </thead>\n",
       "  <tbody>\n",
       "    <tr>\n",
       "      <th>0</th>\n",
       "      <td>1</td>\n",
       "      <td>0</td>\n",
       "      <td>1</td>\n",
       "      <td>0</td>\n",
       "      <td>0</td>\n",
       "      <td>0</td>\n",
       "      <td>0</td>\n",
       "      <td>1</td>\n",
       "      <td>1</td>\n",
       "      <td>1</td>\n",
       "      <td>1</td>\n",
       "      <td>2</td>\n",
       "      <td>1</td>\n",
       "      <td>0</td>\n",
       "      <td>1</td>\n",
       "      <td>1</td>\n",
       "      <td>0</td>\n",
       "      <td>1</td>\n",
       "      <td>1</td>\n",
       "    </tr>\n",
       "    <tr>\n",
       "      <th>1</th>\n",
       "      <td>0</td>\n",
       "      <td>1</td>\n",
       "      <td>1</td>\n",
       "      <td>1</td>\n",
       "      <td>1</td>\n",
       "      <td>1</td>\n",
       "      <td>2</td>\n",
       "      <td>3</td>\n",
       "      <td>0</td>\n",
       "      <td>1</td>\n",
       "      <td>0</td>\n",
       "      <td>0</td>\n",
       "      <td>1</td>\n",
       "      <td>1</td>\n",
       "      <td>0</td>\n",
       "      <td>0</td>\n",
       "      <td>1</td>\n",
       "      <td>1</td>\n",
       "      <td>0</td>\n",
       "    </tr>\n",
       "  </tbody>\n",
       "</table>\n",
       "</div>"
      ],
      "text/plain": [
       "   pets  sport  about  fun  waves  catching  surfing  is  furry  story  \\\n",
       "0     1      0      1    0      0         0        0   1      1      1   \n",
       "1     0      1      1    1      1         1        2   3      0      1   \n",
       "\n",
       "   canine  dogs  a  water  animals  our  popular  this  are  \n",
       "0       1     2  1      0        1    1        0     1    1  \n",
       "1       0     0  1      1        0    0        1     1    0  "
      ]
     },
     "execution_count": 48,
     "metadata": {},
     "output_type": "execute_result"
    }
   ],
   "source": [
    "bow #FREQUENCY COUNT OF ALL WORDS IN MODEL"
   ]
  },
  {
   "cell_type": "code",
   "execution_count": null,
   "id": "2ff90594",
   "metadata": {
    "collapsed": true
   },
   "outputs": [],
   "source": []
  }
 ],
 "metadata": {
  "kernelspec": {
   "display_name": "Python 3 (ipykernel)",
   "language": "python",
   "name": "python3"
  },
  "language_info": {
   "codemirror_mode": {
    "name": "ipython",
    "version": 3
   },
   "file_extension": ".py",
   "mimetype": "text/x-python",
   "name": "python",
   "nbconvert_exporter": "python",
   "pygments_lexer": "ipython3",
   "version": "3.9.13"
  }
 },
 "nbformat": 4,
 "nbformat_minor": 5
}
